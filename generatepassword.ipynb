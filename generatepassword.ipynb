{
 "cells": [
  {
   "cell_type": "code",
   "execution_count": 7,
   "metadata": {},
   "outputs": [
    {
     "name": "stdout",
     "output_type": "stream",
     "text": [
      "(DZ6u$rFH(bOq8QRUCNhDn31UaXUp&Xm6dcQ0Gl%vzo7ReMPYx\n"
     ]
    }
   ],
   "source": [
    "import string\n",
    "import random\n",
    "characters = list(string.ascii_letters + string.digits + \"!@#$%^&*()\")\n",
    "\n",
    "def password():\n",
    "  length = int(input(\"Enter a lenght for a password: \"))\n",
    "\n",
    "  random.shuffle(characters)\n",
    "\n",
    "  password = []\n",
    "  for i in range(length):\n",
    "    password.append(random.choice(characters))\n",
    "  \n",
    "  random.shuffle(password)\n",
    "\n",
    "  print(\"\".join(password))\n",
    "\n",
    "password()"
   ]
  }
 ],
 "metadata": {
  "kernelspec": {
   "display_name": "Python 3",
   "language": "python",
   "name": "python3"
  },
  "language_info": {
   "codemirror_mode": {
    "name": "ipython",
    "version": 3
   },
   "file_extension": ".py",
   "mimetype": "text/x-python",
   "name": "python",
   "nbconvert_exporter": "python",
   "pygments_lexer": "ipython3",
   "version": "3.11.1"
  },
  "orig_nbformat": 4,
  "vscode": {
   "interpreter": {
    "hash": "aee8b7b246df8f9039afb4144a1f6fd8d2ca17a180786b69acc140d282b71a49"
   }
  }
 },
 "nbformat": 4,
 "nbformat_minor": 2
}
